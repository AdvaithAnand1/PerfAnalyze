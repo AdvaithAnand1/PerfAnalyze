{
 "cells": [
  {
   "cell_type": "code",
   "execution_count": 1,
   "id": "03e895d4",
   "metadata": {},
   "outputs": [],
   "source": [
    "import pandas as pd, train, normalize, wmi"
   ]
  },
  {
   "cell_type": "code",
   "execution_count": null,
   "id": "5bdfad92",
   "metadata": {},
   "outputs": [
    {
     "name": "stdout",
     "output_type": "stream",
     "text": [
      "amd ryzen ai 9 365\n"
     ]
    }
   ],
   "source": [
    "c = wmi.WMI()\n",
    "for cpu in c.Win32_Processor():\n",
    "    print(normalize.normalize_cpu_name(cpu.Name))"
   ]
  },
  {
   "cell_type": "code",
   "execution_count": null,
   "id": "360d16de",
   "metadata": {},
   "outputs": [],
   "source": [
    "normalize.find_best_match(cpu.Name, )"
   ]
  },
  {
   "cell_type": "code",
   "execution_count": null,
   "id": "630c14df",
   "metadata": {},
   "outputs": [],
   "source": []
  },
  {
   "cell_type": "code",
   "execution_count": null,
   "id": "953d924b",
   "metadata": {},
   "outputs": [],
   "source": []
  },
  {
   "cell_type": "code",
   "execution_count": null,
   "id": "24836af1",
   "metadata": {},
   "outputs": [],
   "source": []
  },
  {
   "cell_type": "code",
   "execution_count": null,
   "id": "ac5de8f1",
   "metadata": {},
   "outputs": [],
   "source": []
  },
  {
   "cell_type": "code",
   "execution_count": null,
   "id": "9ce9c337",
   "metadata": {},
   "outputs": [],
   "source": []
  },
  {
   "cell_type": "code",
   "execution_count": null,
   "id": "d0d8913e",
   "metadata": {},
   "outputs": [],
   "source": []
  },
  {
   "cell_type": "code",
   "execution_count": null,
   "id": "0e530883",
   "metadata": {},
   "outputs": [],
   "source": []
  }
 ],
 "metadata": {
  "kernelspec": {
   "display_name": "Fuck",
   "language": "python",
   "name": "python3"
  },
  "language_info": {
   "codemirror_mode": {
    "name": "ipython",
    "version": 3
   },
   "file_extension": ".py",
   "mimetype": "text/x-python",
   "name": "python",
   "nbconvert_exporter": "python",
   "pygments_lexer": "ipython3",
   "version": "3.10.11"
  }
 },
 "nbformat": 4,
 "nbformat_minor": 5
}
